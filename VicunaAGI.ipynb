{
 "cells": [
  {
   "attachments": {},
   "cell_type": "markdown",
   "metadata": {},
   "source": [
    "# VicunaAGI Project\n",
    "- [Oobabooga Text Generation Web UI](https://github.com/oobabooga/text-generation-webui)\n",
    "- [Vicuna 13B Model](https://github.com/lm-sys/FastChat/#vicuna-weights)\n",
    "- Modified [BabyAGI](https://github.com/yoheinakajima/babyagi) called [Agent-LLM](https://github.com/Josh-XT/Agent-LLM)\n",
    "\n",
    "# Setup Instructions\n",
    "\n",
    "This notebook is intended for use in Ubuntu Linux and assumes you have a GPU capable of running this model with the appropriate drivers installed.\n",
    "\n",
    "## Install Initial Requirements"
   ]
  },
  {
   "cell_type": "code",
   "execution_count": null,
   "metadata": {
    "vscode": {
     "languageId": "shellscript"
    }
   },
   "outputs": [],
   "source": [
    "git clone https://github.com/Josh-XT/Agent-LLM\n",
    "pip install -r \"Agent-LLM/requirements.txt\"\n",
    "pip install -r \"requirements.txt\""
   ]
  },
  {
   "attachments": {},
   "cell_type": "markdown",
   "metadata": {},
   "source": [
    "## Install Conda"
   ]
  },
  {
   "cell_type": "code",
   "execution_count": null,
   "metadata": {
    "vscode": {
     "languageId": "shellscript"
    }
   },
   "outputs": [],
   "source": [
    "curl -sL \"https://repo.anaconda.com/miniconda/Miniconda3-latest-Linux-x86_64.sh\" > \"Miniconda3.sh\"\n",
    "sudo bash Miniconda3.sh\n",
    "sudo apt install build-essential\n",
    "conda create -n textgen python=3.10.9"
   ]
  },
  {
   "attachments": {},
   "cell_type": "markdown",
   "metadata": {},
   "source": [
    "## Download Oobabooga Text Generation Web UI"
   ]
  },
  {
   "cell_type": "code",
   "execution_count": null,
   "metadata": {
    "vscode": {
     "languageId": "shellscript"
    }
   },
   "outputs": [],
   "source": [
    "git clone https://github.com/oobabooga/text-generation-webui\n",
    "cd text-generation-webui\n",
    "pip install -r requirements.txt"
   ]
  },
  {
   "attachments": {},
   "cell_type": "markdown",
   "metadata": {},
   "source": [
    "## Download Vicuna 13B Model"
   ]
  },
  {
   "cell_type": "code",
   "execution_count": null,
   "metadata": {
    "vscode": {
     "languageId": "shellscript"
    }
   },
   "outputs": [],
   "source": [
    "cd ../text-generation-webui/\n",
    "python3 download-model.py FIND-A/VICUNA-MODEL-ON-HUGGINGFACE"
   ]
  },
  {
   "attachments": {},
   "cell_type": "markdown",
   "metadata": {},
   "source": [
    "## Run Oobabooga Text Generation Web UI"
   ]
  },
  {
   "cell_type": "code",
   "execution_count": null,
   "metadata": {
    "vscode": {
     "languageId": "shellscript"
    }
   },
   "outputs": [],
   "source": [
    "conda activate textgen\n",
    "python3 server.py --model eachadea_vicuna-13b-1.1 --listen --no-stream"
   ]
  },
  {
   "attachments": {},
   "cell_type": "markdown",
   "metadata": {},
   "source": [
    "Access at http://localhost:7860/?__theme=dark once running."
   ]
  },
  {
   "attachments": {},
   "cell_type": "markdown",
   "metadata": {},
   "source": [
    "## Set The AI Objectives\n",
    "Set your ``OBJECTIVE`` then run `Auto-LLM`"
   ]
  },
  {
   "cell_type": "code",
   "execution_count": null,
   "metadata": {
    "vscode": {
     "languageId": "shellscript"
    }
   },
   "outputs": [],
   "source": [
    "cd Agent-LLM\n",
    "python3 main.py \"Solve world hunger\""
   ]
  }
 ],
 "metadata": {
  "kernelspec": {
   "display_name": "Python 3",
   "language": "python",
   "name": "python3"
  },
  "language_info": {
   "codemirror_mode": {
    "name": "ipython",
    "version": 3
   },
   "file_extension": ".py",
   "mimetype": "text/x-python",
   "name": "python",
   "nbconvert_exporter": "python",
   "pygments_lexer": "ipython3",
   "version": "3.10.6"
  },
  "orig_nbformat": 4
 },
 "nbformat": 4,
 "nbformat_minor": 2
}
